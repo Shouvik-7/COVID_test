{
 "cells": [
  {
   "cell_type": "code",
   "execution_count": 1,
   "metadata": {},
   "outputs": [],
   "source": [
    "from tensorflow.keras.models import load_model\n",
    "from tensorflow.keras.preprocessing import image\n",
    "from tensorflow.keras.preprocessing import image\n",
    "import os\n",
    "import cv2\n",
    "import numpy as np\n",
    "from sklearn.metrics import accuracy_score\n",
    "from sklearn.metrics import classification_report, confusion_matrix\n",
    "model=load_model('./saved-model-01-0.97.h5')\n",
    "BATCH_SIZE = 32\n",
    "IMAGE_SIZE = (224,224)\n",
    "from tensorflow.keras.preprocessing.image import ImageDataGenerator,load_img"
   ]
  },
  {
   "cell_type": "code",
   "execution_count": 2,
   "metadata": {},
   "outputs": [
    {
     "name": "stdout",
     "output_type": "stream",
     "text": [
      "Found 20000 images belonging to 2 classes.\n",
      "WARNING:tensorflow:From <ipython-input-2-668a5d49b0d0>:12: Model.evaluate_generator (from tensorflow.python.keras.engine.training) is deprecated and will be removed in a future version.\n",
      "Instructions for updating:\n",
      "Please use Model.evaluate, which supports generators.\n",
      "20000/20000 [==============================] - 388s 19ms/step - loss: 0.0833 - accuracy: 0.9711\n",
      "Test loss: 0.08330238610506058\n",
      "Test accuracy: 0.9710500240325928\n"
     ]
    }
   ],
   "source": [
    "v_datagen = ImageDataGenerator(rescale=1. / 255)\n",
    "v_generator = v_datagen.flow_from_directory(\"./test\",\n",
    "                                                   target_size=IMAGE_SIZE,\n",
    "                                                   batch_size=1,\n",
    "                                                  color_mode=\"rgb\",\n",
    "                                                  shuffle=False,\n",
    "                                                   class_mode='binary')\n",
    "v_generator.reset()\n",
    "x = model.evaluate_generator(v_generator,\n",
    " use_multiprocessing = False,\n",
    " verbose = 1,\n",
    " workers=1\n",
    " )\n",
    "print('Test loss:' , x[0])\n",
    "print('Test accuracy:',x[1])"
   ]
  },
  {
   "cell_type": "code",
   "execution_count": 3,
   "metadata": {},
   "outputs": [
    {
     "name": "stdout",
     "output_type": "stream",
     "text": [
      "0.97105 \n",
      "\n",
      "              precision    recall  f1-score   support\n",
      "\n",
      "           0       0.96      0.98      0.97     10000\n",
      "           1       0.98      0.96      0.97     10000\n",
      "\n",
      "    accuracy                           0.97     20000\n",
      "   macro avg       0.97      0.97      0.97     20000\n",
      "weighted avg       0.97      0.97      0.97     20000\n",
      "\n"
     ]
    }
   ],
   "source": [
    "import tensorflow as tf\n",
    "k=0\n",
    "true_val = []\n",
    "pred_val = []\n",
    "files = []\n",
    "class_loc = 'D:/New folder/capstone3/test/'\n",
    "for i in os.listdir(class_loc):\n",
    "    images_loc = class_loc + i\n",
    "    for j in os.listdir(images_loc):\n",
    "        img_path = images_loc + '/' + j\n",
    "        image = tf.keras.preprocessing.image.load_img(img_path, grayscale=False, color_mode=\"rgb\", target_size=IMAGE_SIZE)\n",
    "        input_arr = tf.keras.preprocessing.image.img_to_array(image)\n",
    "        input_arr = (1./255) * (input_arr)\n",
    "        input_arr = np.array([input_arr])  # Convert single image to a batch.\n",
    "        predictions = model.predict(input_arr)\n",
    "        \n",
    "        \n",
    "        pred_val.append(round(predictions[0][0]))\n",
    "        true_val.append(k)\n",
    "    k+=1\n",
    "print(accuracy_score(true_val, pred_val),\"\\n\")\n",
    "report = classification_report(true_val, pred_val)\n",
    "print(report)\n"
   ]
  },
  {
   "cell_type": "code",
   "execution_count": null,
   "metadata": {},
   "outputs": [],
   "source": []
  }
 ],
 "metadata": {
  "kernelspec": {
   "display_name": "Python 3",
   "language": "python",
   "name": "python3"
  },
  "language_info": {
   "codemirror_mode": {
    "name": "ipython",
    "version": 3
   },
   "file_extension": ".py",
   "mimetype": "text/x-python",
   "name": "python",
   "nbconvert_exporter": "python",
   "pygments_lexer": "ipython3",
   "version": "3.7.0"
  }
 },
 "nbformat": 4,
 "nbformat_minor": 4
}
