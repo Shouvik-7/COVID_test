{
 "cells": [
  {
   "cell_type": "markdown",
   "metadata": {
    "id": "gMdcjtPn2mx4"
   },
   "source": [
    "## Transfer Learning VGG 16 and VGG 19 using Keras"
   ]
  },
  {
   "cell_type": "code",
   "execution_count": null,
   "metadata": {
    "colab": {
     "base_uri": "https://localhost:8080/"
    },
    "id": "rGIb9A7L3FE4",
    "outputId": "bbbccc85-60a0-4256-e303-6d59c1002f02"
   },
   "outputs": [],
   "source": [
    "#from google.colab import drive\n",
    "#drive.mount('/content/drive')"
   ]
  },
  {
   "cell_type": "markdown",
   "metadata": {
    "id": "afrsc_fn2myC"
   },
   "source": [
    "Please download the dataset from the below url"
   ]
  },
  {
   "cell_type": "code",
   "execution_count": 1,
   "metadata": {
    "id": "n3C5QaRw2myD",
    "outputId": "2867b5f7-d1c7-4bef-c932-51f359176fb5"
   },
   "outputs": [
    {
     "name": "stdout",
     "output_type": "stream",
     "text": [
      "Default GPU Device:/device:GPU:0\n"
     ]
    }
   ],
   "source": [
    "import tensorflow as tf \n",
    "\n",
    "if tf.test.gpu_device_name(): \n",
    "    \n",
    "\n",
    "    print('Default GPU Device:{}'.format(tf.test.gpu_device_name()))\n",
    "\n",
    "else:\n",
    "\n",
    "    print(\"Please install GPU version of TF\")"
   ]
  },
  {
   "cell_type": "code",
   "execution_count": 2,
   "metadata": {
    "id": "f2k0felY2myF",
    "outputId": "2a60d8eb-2e5a-46ea-dee1-726e5d99093f"
   },
   "outputs": [
    {
     "data": {
      "text/plain": [
       "'/device:GPU:0'"
      ]
     },
     "execution_count": 2,
     "metadata": {},
     "output_type": "execute_result"
    }
   ],
   "source": [
    "tf.test.gpu_device_name()"
   ]
  },
  {
   "cell_type": "code",
   "execution_count": 3,
   "metadata": {
    "colab": {
     "base_uri": "https://localhost:8080/"
    },
    "id": "XivSAdnS32y6",
    "outputId": "7e254cfc-e060-481b-9b9d-a6ca4ee8601e"
   },
   "outputs": [],
   "source": [
    "#!nvidia-smi"
   ]
  },
  {
   "cell_type": "code",
   "execution_count": 4,
   "metadata": {
    "colab": {
     "base_uri": "https://localhost:8080/"
    },
    "id": "pC2WPZFY39id",
    "outputId": "0f4a4712-f473-41d5-be51-2c83c42fa54f"
   },
   "outputs": [],
   "source": [
    "#!pip install tensorflow-gpu"
   ]
  },
  {
   "cell_type": "code",
   "execution_count": 5,
   "metadata": {
    "id": "vjzj5zXf2myG",
    "outputId": "110468f7-bd54-4240-85bc-89b0410f6b20"
   },
   "outputs": [],
   "source": [
    "from tensorflow.compat.v1 import ConfigProto\n",
    "from tensorflow.compat.v1 import InteractiveSession\n",
    "\n",
    "config = ConfigProto()\n",
    "config.gpu_options.per_process_gpu_memory_fraction = 0.90\n",
    "config.gpu_options.allow_growth = True\n",
    "session = InteractiveSession(config=config)"
   ]
  },
  {
   "cell_type": "code",
   "execution_count": 6,
   "metadata": {
    "id": "2vtM6VOA2myH"
   },
   "outputs": [],
   "source": [
    "# import the libraries as shown below\n",
    "\n",
    "from tensorflow.keras.layers import Input, Lambda, Dense, Flatten\n",
    "from tensorflow.keras.models import Model\n",
    "from tensorflow.keras.applications.vgg16 import VGG16\n",
    "from tensorflow.keras.applications.vgg16 import preprocess_input\n",
    "from tensorflow.keras.preprocessing import image\n",
    "from PIL import Image\n",
    "from tensorflow.keras.preprocessing.image import ImageDataGenerator,load_img\n",
    "from tensorflow.keras.models import Sequential\n",
    "import numpy as np\n",
    "from glob import glob\n",
    "from tensorflow.keras.layers import Dropout\n"
   ]
  },
  {
   "cell_type": "code",
   "execution_count": 7,
   "metadata": {
    "id": "E9LVvrX52myH"
   },
   "outputs": [],
   "source": [
    "# re-size all the images to this\n",
    "IMAGE_SIZE = [224, 224]\n",
    "\n",
    "train_path = './dataset'\n",
    "test_path = './test'\n"
   ]
  },
  {
   "cell_type": "code",
   "execution_count": 8,
   "metadata": {
    "id": "L1aH4N0L2myJ"
   },
   "outputs": [],
   "source": [
    "  # useful for getting number of output classes\n",
    "folders = glob('./dataset/*')"
   ]
  },
  {
   "cell_type": "code",
   "execution_count": 10,
   "metadata": {},
   "outputs": [],
   "source": [
    "vgg16 = VGG16(input_shape=IMAGE_SIZE + [3], weights='imagenet', include_top=False)\n",
    "\n",
    "for layer in vgg16.layers:\n",
    "    layer.trainable = False\n",
    "x = Flatten()(vgg16.output)\n",
    "x = Dense(256, activation = 'relu')(x)\n",
    "x = Dropout(0.5)(x)\n",
    "predictions = Dense(1, activation='sigmoid')(x)\n",
    "model = Model(inputs=vgg16.input,outputs=predictions)\n"
   ]
  },
  {
   "cell_type": "code",
   "execution_count": 11,
   "metadata": {
    "colab": {
     "base_uri": "https://localhost:8080/"
    },
    "id": "GiyPQpQg2myL",
    "outputId": "2df27900-8b56-4891-ee96-d3bd094a8d5f"
   },
   "outputs": [
    {
     "name": "stdout",
     "output_type": "stream",
     "text": [
      "Model: \"functional_1\"\n",
      "_________________________________________________________________\n",
      "Layer (type)                 Output Shape              Param #   \n",
      "=================================================================\n",
      "input_1 (InputLayer)         [(None, 224, 224, 3)]     0         \n",
      "_________________________________________________________________\n",
      "block1_conv1 (Conv2D)        (None, 224, 224, 64)      1792      \n",
      "_________________________________________________________________\n",
      "block1_conv2 (Conv2D)        (None, 224, 224, 64)      36928     \n",
      "_________________________________________________________________\n",
      "block1_pool (MaxPooling2D)   (None, 112, 112, 64)      0         \n",
      "_________________________________________________________________\n",
      "block2_conv1 (Conv2D)        (None, 112, 112, 128)     73856     \n",
      "_________________________________________________________________\n",
      "block2_conv2 (Conv2D)        (None, 112, 112, 128)     147584    \n",
      "_________________________________________________________________\n",
      "block2_pool (MaxPooling2D)   (None, 56, 56, 128)       0         \n",
      "_________________________________________________________________\n",
      "block3_conv1 (Conv2D)        (None, 56, 56, 256)       295168    \n",
      "_________________________________________________________________\n",
      "block3_conv2 (Conv2D)        (None, 56, 56, 256)       590080    \n",
      "_________________________________________________________________\n",
      "block3_conv3 (Conv2D)        (None, 56, 56, 256)       590080    \n",
      "_________________________________________________________________\n",
      "block3_pool (MaxPooling2D)   (None, 28, 28, 256)       0         \n",
      "_________________________________________________________________\n",
      "block4_conv1 (Conv2D)        (None, 28, 28, 512)       1180160   \n",
      "_________________________________________________________________\n",
      "block4_conv2 (Conv2D)        (None, 28, 28, 512)       2359808   \n",
      "_________________________________________________________________\n",
      "block4_conv3 (Conv2D)        (None, 28, 28, 512)       2359808   \n",
      "_________________________________________________________________\n",
      "block4_pool (MaxPooling2D)   (None, 14, 14, 512)       0         \n",
      "_________________________________________________________________\n",
      "block5_conv1 (Conv2D)        (None, 14, 14, 512)       2359808   \n",
      "_________________________________________________________________\n",
      "block5_conv2 (Conv2D)        (None, 14, 14, 512)       2359808   \n",
      "_________________________________________________________________\n",
      "block5_conv3 (Conv2D)        (None, 14, 14, 512)       2359808   \n",
      "_________________________________________________________________\n",
      "block5_pool (MaxPooling2D)   (None, 7, 7, 512)         0         \n",
      "_________________________________________________________________\n",
      "flatten (Flatten)            (None, 25088)             0         \n",
      "_________________________________________________________________\n",
      "dense (Dense)                (None, 256)               6422784   \n",
      "_________________________________________________________________\n",
      "dropout (Dropout)            (None, 256)               0         \n",
      "_________________________________________________________________\n",
      "dense_1 (Dense)              (None, 1)                 257       \n",
      "=================================================================\n",
      "Total params: 21,137,729\n",
      "Trainable params: 6,423,041\n",
      "Non-trainable params: 14,714,688\n",
      "_________________________________________________________________\n"
     ]
    }
   ],
   "source": [
    "\n",
    "# view the structure of the model\n",
    "model.summary()\n"
   ]
  },
  {
   "cell_type": "code",
   "execution_count": 12,
   "metadata": {
    "id": "Ehy5jeSp2myL"
   },
   "outputs": [],
   "source": [
    "from tensorflow.keras.optimizers import Adam\n",
    "\n",
    "model.compile(optimizer=Adam(lr=1e-5),\n",
    "              loss='binary_crossentropy',\n",
    "              metrics = ['accuracy'])\n"
   ]
  },
  {
   "cell_type": "code",
   "execution_count": 13,
   "metadata": {
    "id": "7Sj1VTPR2myL"
   },
   "outputs": [],
   "source": [
    "# Use the Image Data Generator to import the images from the dataset\n",
    "from tensorflow.keras.preprocessing.image import ImageDataGenerator\n",
    "\n",
    "train_datagen = ImageDataGenerator(rescale = 1./255,\n",
    "                                   shear_range = 0.2,\n",
    "                                   zoom_range = 0.2,\n",
    "                                   horizontal_flip = True)\n",
    "\n",
    "test_datagen = ImageDataGenerator(rescale = 1./255)"
   ]
  },
  {
   "cell_type": "code",
   "execution_count": 14,
   "metadata": {
    "colab": {
     "base_uri": "https://localhost:8080/"
    },
    "id": "584vgGBG2myM",
    "outputId": "0579b31a-389f-4a54-c01a-a2254fc33fc5"
   },
   "outputs": [
    {
     "name": "stdout",
     "output_type": "stream",
     "text": [
      "Found 100000 images belonging to 2 classes.\n"
     ]
    }
   ],
   "source": [
    "# Make sure you provide the same target size as initialied for the image size\n",
    "training_set = train_datagen.flow_from_directory(train_path,\n",
    "                                                 target_size = (224, 224),\n",
    "                                                 batch_size = 32,\n",
    "                                                 shuffle=True,\n",
    "                                                 class_mode = 'binary')"
   ]
  },
  {
   "cell_type": "code",
   "execution_count": 15,
   "metadata": {
    "colab": {
     "base_uri": "https://localhost:8080/"
    },
    "id": "M-ggWfPI2myM",
    "outputId": "0812aa2d-3e86-4743-9dce-7ba9c32eb5b2"
   },
   "outputs": [
    {
     "name": "stdout",
     "output_type": "stream",
     "text": [
      "Found 20000 images belonging to 2 classes.\n"
     ]
    }
   ],
   "source": [
    "test_set = test_datagen.flow_from_directory(test_path,\n",
    "                                            target_size = (224, 224),\n",
    "                                            batch_size = 32,\n",
    "                                            shuffle=True,\n",
    "                                            class_mode = 'binary')"
   ]
  },
  {
   "cell_type": "code",
   "execution_count": 16,
   "metadata": {},
   "outputs": [],
   "source": [
    "filepath = \"./capstone3/savedmodels/saved-model-{epoch:02d}-{val_accuracy:.2f}.h5\"\n",
    "checkpoint = tf.keras.callbacks.ModelCheckpoint(filepath, monitor='val_accuracy', verbose=1, save_best_only=False, mode='max')"
   ]
  },
  {
   "cell_type": "code",
   "execution_count": 17,
   "metadata": {
    "colab": {
     "base_uri": "https://localhost:8080/"
    },
    "id": "y_5Yb5Un2myN",
    "outputId": "e36d8e2c-bb8e-499d-ddbe-78c5507e2e74"
   },
   "outputs": [
    {
     "name": "stdout",
     "output_type": "stream",
     "text": [
      "Epoch 1/20\n",
      "3125/3125 [==============================] - ETA: 0s - loss: 0.1571 - accuracy: 0.9423\n",
      "Epoch 00001: saving model to D:/New folder/capstone3/savedmodels\\saved-model-01-0.97.h5\n",
      "3125/3125 [==============================] - 5866s 2s/step - loss: 0.1571 - accuracy: 0.9423 - val_loss: 0.0833 - val_accuracy: 0.9711\n",
      "Epoch 2/20\n",
      "3125/3125 [==============================] - ETA: 0s - loss: 0.0810 - accuracy: 0.9721\n",
      "Epoch 00002: saving model to D:/New folder/capstone3/savedmodels\\saved-model-02-0.98.h5\n",
      "3125/3125 [==============================] - 5054s 2s/step - loss: 0.0810 - accuracy: 0.9721 - val_loss: 0.0653 - val_accuracy: 0.9780\n",
      "Epoch 3/20\n",
      "3125/3125 [==============================] - ETA: 0s - loss: 0.0621 - accuracy: 0.9793\n",
      "Epoch 00003: saving model to D:/New folder/capstone3/savedmodels\\saved-model-03-0.98.h5\n",
      "3125/3125 [==============================] - 4952s 2s/step - loss: 0.0621 - accuracy: 0.9793 - val_loss: 0.0484 - val_accuracy: 0.9847\n",
      "Epoch 4/20\n",
      "3125/3125 [==============================] - ETA: 0s - loss: 0.0538 - accuracy: 0.9822\n",
      "Epoch 00004: saving model to D:/New folder/capstone3/savedmodels\\saved-model-04-0.99.h5\n",
      "3125/3125 [==============================] - 4862s 2s/step - loss: 0.0538 - accuracy: 0.9822 - val_loss: 0.0445 - val_accuracy: 0.9858\n",
      "Epoch 5/20\n",
      "3125/3125 [==============================] - ETA: 0s - loss: 0.0483 - accuracy: 0.9842\n",
      "Epoch 00005: saving model to D:/New folder/capstone3/savedmodels\\saved-model-05-0.99.h5\n",
      "3125/3125 [==============================] - 4679s 1s/step - loss: 0.0483 - accuracy: 0.9842 - val_loss: 0.0368 - val_accuracy: 0.9882\n",
      "Epoch 6/20\n",
      "3125/3125 [==============================] - ETA: 0s - loss: 0.0423 - accuracy: 0.9862\n",
      "Epoch 00006: saving model to D:/New folder/capstone3/savedmodels\\saved-model-06-0.99.h5\n",
      "3125/3125 [==============================] - 4640s 1s/step - loss: 0.0423 - accuracy: 0.9862 - val_loss: 0.0339 - val_accuracy: 0.9887\n",
      "Epoch 7/20\n",
      "3125/3125 [==============================] - ETA: 0s - loss: 0.0397 - accuracy: 0.9868\n",
      "Epoch 00007: saving model to D:/New folder/capstone3/savedmodels\\saved-model-07-0.99.h5\n",
      "3125/3125 [==============================] - 4669s 1s/step - loss: 0.0397 - accuracy: 0.9868 - val_loss: 0.0322 - val_accuracy: 0.9901\n",
      "Epoch 8/20\n",
      "3125/3125 [==============================] - ETA: 0s - loss: 0.0371 - accuracy: 0.9884\n",
      "Epoch 00008: saving model to D:/New folder/capstone3/savedmodels\\saved-model-08-0.99.h5\n",
      "3125/3125 [==============================] - 4666s 1s/step - loss: 0.0371 - accuracy: 0.9884 - val_loss: 0.0294 - val_accuracy: 0.9909\n",
      "Epoch 9/20\n",
      "3125/3125 [==============================] - ETA: 0s - loss: 0.0339 - accuracy: 0.9888\n",
      "Epoch 00009: saving model to D:/New folder/capstone3/savedmodels\\saved-model-09-0.99.h5\n",
      "3125/3125 [==============================] - 4700s 2s/step - loss: 0.0339 - accuracy: 0.9888 - val_loss: 0.0262 - val_accuracy: 0.9917\n",
      "Epoch 10/20\n",
      "3125/3125 [==============================] - ETA: 0s - loss: 0.0316 - accuracy: 0.9900\n",
      "Epoch 00010: saving model to D:/New folder/capstone3/savedmodels\\saved-model-10-0.99.h5\n",
      "3125/3125 [==============================] - 4678s 1s/step - loss: 0.0316 - accuracy: 0.9900 - val_loss: 0.0249 - val_accuracy: 0.9919\n",
      "Epoch 11/20\n",
      "3125/3125 [==============================] - ETA: 0s - loss: 0.0303 - accuracy: 0.9903\n",
      "Epoch 00011: saving model to D:/New folder/capstone3/savedmodels\\saved-model-11-0.99.h5\n",
      "3125/3125 [==============================] - 4698s 2s/step - loss: 0.0303 - accuracy: 0.9903 - val_loss: 0.0232 - val_accuracy: 0.9923\n",
      "Epoch 12/20\n",
      "3125/3125 [==============================] - ETA: 0s - loss: 0.0285 - accuracy: 0.9908\n",
      "Epoch 00012: saving model to D:/New folder/capstone3/savedmodels\\saved-model-12-0.99.h5\n",
      "3125/3125 [==============================] - 4791s 2s/step - loss: 0.0285 - accuracy: 0.9908 - val_loss: 0.0256 - val_accuracy: 0.9920\n",
      "Epoch 13/20\n",
      "3125/3125 [==============================] - ETA: 0s - loss: 0.0272 - accuracy: 0.9913\n",
      "Epoch 00013: saving model to D:/New folder/capstone3/savedmodels\\saved-model-13-0.99.h5\n",
      "3125/3125 [==============================] - 4903s 2s/step - loss: 0.0272 - accuracy: 0.9913 - val_loss: 0.0219 - val_accuracy: 0.9927\n",
      "Epoch 14/20\n",
      "3125/3125 [==============================] - ETA: 0s - loss: 0.0254 - accuracy: 0.9917\n",
      "Epoch 00014: saving model to D:/New folder/capstone3/savedmodels\\saved-model-14-0.99.h5\n",
      "3125/3125 [==============================] - 4859s 2s/step - loss: 0.0254 - accuracy: 0.9917 - val_loss: 0.0213 - val_accuracy: 0.9929\n",
      "Epoch 15/20\n",
      "3125/3125 [==============================] - ETA: 0s - loss: 0.0244 - accuracy: 0.9921\n",
      "Epoch 00015: saving model to D:/New folder/capstone3/savedmodels\\saved-model-15-0.99.h5\n",
      "3125/3125 [==============================] - 4690s 2s/step - loss: 0.0244 - accuracy: 0.9921 - val_loss: 0.0242 - val_accuracy: 0.9927\n",
      "Epoch 16/20\n",
      "3125/3125 [==============================] - ETA: 0s - loss: 0.0240 - accuracy: 0.9921\n",
      "Epoch 00016: saving model to D:/New folder/capstone3/savedmodels\\saved-model-16-0.99.h5\n",
      "3125/3125 [==============================] - 4828s 2s/step - loss: 0.0240 - accuracy: 0.9921 - val_loss: 0.0193 - val_accuracy: 0.9937\n",
      "Epoch 17/20\n",
      "3125/3125 [==============================] - ETA: 0s - loss: 0.0222 - accuracy: 0.9928\n",
      "Epoch 00017: saving model to D:/New folder/capstone3/savedmodels\\saved-model-17-0.99.h5\n",
      "3125/3125 [==============================] - 4794s 2s/step - loss: 0.0222 - accuracy: 0.9928 - val_loss: 0.0186 - val_accuracy: 0.9941\n",
      "Epoch 18/20\n",
      "3125/3125 [==============================] - ETA: 0s - loss: 0.0217 - accuracy: 0.9930\n",
      "Epoch 00018: saving model to D:/New folder/capstone3/savedmodels\\saved-model-18-0.99.h5\n",
      "3125/3125 [==============================] - 4855s 2s/step - loss: 0.0217 - accuracy: 0.9930 - val_loss: 0.0173 - val_accuracy: 0.9940\n",
      "Epoch 19/20\n",
      "3125/3125 [==============================] - ETA: 0s - loss: 0.0205 - accuracy: 0.9933\n",
      "Epoch 00019: saving model to D:/New folder/capstone3/savedmodels\\saved-model-19-0.99.h5\n",
      "3125/3125 [==============================] - 4787s 2s/step - loss: 0.0205 - accuracy: 0.9933 - val_loss: 0.0175 - val_accuracy: 0.9942\n",
      "Epoch 20/20\n",
      "3125/3125 [==============================] - ETA: 0s - loss: 0.0200 - accuracy: 0.9936\n",
      "Epoch 00020: saving model to D:/New folder/capstone3/savedmodels\\saved-model-20-0.99.h5\n",
      "3125/3125 [==============================] - 4961s 2s/step - loss: 0.0200 - accuracy: 0.9936 - val_loss: 0.0174 - val_accuracy: 0.9945\n"
     ]
    }
   ],
   "source": [
    "# fit the model\n",
    "# Run the cell. It will take some time to execute\n",
    "r = model.fit(\n",
    "  training_set,\n",
    "  validation_data=test_set,\n",
    "  epochs=20,\n",
    "    steps_per_epoch=len(training_set),\n",
    "    validation_steps=len(test_set),\n",
    "    callbacks=[checkpoint]\n",
    ")"
   ]
  },
  {
   "cell_type": "code",
   "execution_count": null,
   "metadata": {
    "id": "BRuBMaIx2myN"
   },
   "outputs": [],
   "source": [
    "\n"
   ]
  },
  {
   "cell_type": "code",
   "execution_count": 18,
   "metadata": {
    "id": "VaihpJOT2myN"
   },
   "outputs": [
    {
     "data": {
      "image/png": "[encoded data removed]",
      "text/plain": [
       "<Figure size 432x288 with 1 Axes>"
      ]
     },
     "metadata": {
      "needs_background": "light"
     },
     "output_type": "display_data"
    },
    {
     "data": {
      "image/png": "[encoded data removed]",
      "text/plain": [
       "<Figure size 432x288 with 1 Axes>"
      ]
     },
     "metadata": {
      "needs_background": "light"
     },
     "output_type": "display_data"
    },
    {
     "data": {
      "text/plain": [
       "<Figure size 432x288 with 0 Axes>"
      ]
     },
     "metadata": {},
     "output_type": "display_data"
    }
   ],
   "source": [
    "# plot the loss\n",
    "import matplotlib.pyplot as plt\n",
    "plt.plot(r.history['loss'], label='train loss')\n",
    "plt.plot(r.history['val_loss'], label='val loss')\n",
    "plt.legend()\n",
    "plt.show()\n",
    "plt.savefig('LossVal_loss')\n",
    "\n",
    "# plot the accuracy\n",
    "plt.plot(r.history['accuracy'], label='train acc')\n",
    "plt.plot(r.history['val_accuracy'], label='val acc')\n",
    "plt.legend()\n",
    "plt.show()\n",
    "plt.savefig('AccVal_acc')"
   ]
  },
  {
   "cell_type": "code",
   "execution_count": 19,
   "metadata": {
    "id": "I-lEhMwP2myO"
   },
   "outputs": [],
   "source": [
    "# save it as a h5 file\n",
    "\n",
    "\n",
    "from tensorflow.keras.models import load_model\n",
    "\n",
    "model.save('model_vgg16_final.h5')"
   ]
  }
 ],
 "metadata": {
  "accelerator": "GPU",
  "colab": {
   "name": "Transfer Learning VGG16.ipynb",
   "provenance": []
  },
  "kernelspec": {
   "display_name": "Python 3",
   "language": "python",
   "name": "python3"
  },
  "language_info": {
   "codemirror_mode": {
    "name": "ipython",
    "version": 3
   },
   "file_extension": ".py",
   "mimetype": "text/x-python",
   "name": "python",
   "nbconvert_exporter": "python",
   "pygments_lexer": "ipython3",
   "version": "3.7.0"
  }
 },
 "nbformat": 4,
 "nbformat_minor": 1
}
